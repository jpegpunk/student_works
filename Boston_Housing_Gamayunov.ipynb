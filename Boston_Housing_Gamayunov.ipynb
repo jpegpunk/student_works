{
  "nbformat": 4,
  "nbformat_minor": 0,
  "metadata": {
    "colab": {
      "name": "Home Work_Gamayunov.ipynb",
      "provenance": []
    },
    "kernelspec": {
      "name": "python3",
      "display_name": "Python 3"
    }
  },
  "cells": [
    {
      "cell_type": "code",
      "metadata": {
        "id": "6b--DrUtFjzF"
      },
      "source": [
        "import matplotlib.pyplot as plt\n",
        "\n",
        "from sklearn.metrics import mean_squared_error"
      ],
      "execution_count": null,
      "outputs": []
    },
    {
      "cell_type": "code",
      "metadata": {
        "id": "9Po7cjO7C7_1",
        "colab": {
          "base_uri": "https://localhost:8080/"
        },
        "outputId": "2ac4ba05-cbe4-4f06-a4ed-1a1c2bebad5b"
      },
      "source": [
        "from tensorflow.keras.datasets import boston_housing\n",
        "\n",
        "(x_train, y_train), (x_test, y_test) = boston_housing.load_data()"
      ],
      "execution_count": null,
      "outputs": [
        {
          "output_type": "stream",
          "text": [
            "Downloading data from https://storage.googleapis.com/tensorflow/tf-keras-datasets/boston_housing.npz\n",
            "57344/57026 [==============================] - 0s 0us/step\n"
          ],
          "name": "stdout"
        }
      ]
    },
    {
      "cell_type": "code",
      "metadata": {
        "id": "EfYocVuvDslE",
        "colab": {
          "base_uri": "https://localhost:8080/"
        },
        "outputId": "c97ce62d-767a-4d66-f69d-9d47fe6e0790"
      },
      "source": [
        "x_train.shape, y_train.shape"
      ],
      "execution_count": null,
      "outputs": [
        {
          "output_type": "execute_result",
          "data": {
            "text/plain": [
              "((404, 13), (404,))"
            ]
          },
          "metadata": {
            "tags": []
          },
          "execution_count": 4
        }
      ]
    },
    {
      "cell_type": "code",
      "metadata": {
        "id": "f2bLP2xrD2u7",
        "colab": {
          "base_uri": "https://localhost:8080/"
        },
        "outputId": "f651c735-e76c-4512-8b8f-4706704ab73b"
      },
      "source": [
        "x_train[0]"
      ],
      "execution_count": null,
      "outputs": [
        {
          "output_type": "execute_result",
          "data": {
            "text/plain": [
              "array([  1.23247,   0.     ,   8.14   ,   0.     ,   0.538  ,   6.142  ,\n",
              "        91.7    ,   3.9769 ,   4.     , 307.     ,  21.     , 396.9    ,\n",
              "        18.72   ])"
            ]
          },
          "metadata": {
            "tags": []
          },
          "execution_count": 5
        }
      ]
    },
    {
      "cell_type": "code",
      "metadata": {
        "id": "yb47p_RGEKga",
        "colab": {
          "base_uri": "https://localhost:8080/"
        },
        "outputId": "a1691721-30d6-447c-a9ab-da873e2b4dcd"
      },
      "source": [
        "x_test.shape, y_test.shape"
      ],
      "execution_count": null,
      "outputs": [
        {
          "output_type": "execute_result",
          "data": {
            "text/plain": [
              "((102, 13), (102,))"
            ]
          },
          "metadata": {
            "tags": []
          },
          "execution_count": 6
        }
      ]
    },
    {
      "cell_type": "code",
      "metadata": {
        "id": "pae3Mbr7EnOO"
      },
      "source": [
        "from tensorflow.keras.models import Sequential\n",
        "from tensorflow.keras.layers import Dense\n",
        "from tensorflow.keras.optimizers import Adam, SGD"
      ],
      "execution_count": null,
      "outputs": []
    },
    {
      "cell_type": "markdown",
      "metadata": {
        "id": "jwkC2GgFXeeI"
      },
      "source": [
        "**Model 1**"
      ]
    },
    {
      "cell_type": "code",
      "metadata": {
        "id": "U6HjPFMvEqu1"
      },
      "source": [
        "model_1 = Sequential()\n",
        "model_1.add(\n",
        "    Dense(40, input_dim=13, kernel_initializer='normal', activation='sigmoid')\n",
        ")\n",
        "model_1.add(\n",
        "    Dense(40, kernel_initializer='normal', activation='sigmoid')\n",
        ")\n",
        "model_1.add(\n",
        "    Dense(40, kernel_initializer='normal', activation='sigmoid')\n",
        ")\n",
        "model_1.add(\n",
        "    Dense(1, kernel_initializer='normal')\n",
        ")"
      ],
      "execution_count": null,
      "outputs": []
    },
    {
      "cell_type": "code",
      "metadata": {
        "id": "hG-J4DYDvwDn"
      },
      "source": [
        "#?Dense"
      ],
      "execution_count": null,
      "outputs": []
    },
    {
      "cell_type": "code",
      "metadata": {
        "id": "FRIK2wLBFHA9"
      },
      "source": [
        "optimizer_1 = Adam(learning_rate=0.001)"
      ],
      "execution_count": null,
      "outputs": []
    },
    {
      "cell_type": "code",
      "metadata": {
        "id": "Pf-uB7anMZDk"
      },
      "source": [
        "#?Adam"
      ],
      "execution_count": null,
      "outputs": []
    },
    {
      "cell_type": "code",
      "metadata": {
        "id": "b8Y39TvSEvyA"
      },
      "source": [
        "model_1.compile(loss='mean_squared_error', optimizer=optimizer_1)"
      ],
      "execution_count": null,
      "outputs": []
    },
    {
      "cell_type": "code",
      "metadata": {
        "id": "1sn-vPYMExrg"
      },
      "source": [
        "history_1 = model_1.fit(x=x_train, y=y_train, validation_split=0.1, batch_size=64, epochs=500, verbose=1)"
      ],
      "execution_count": null,
      "outputs": []
    },
    {
      "cell_type": "code",
      "metadata": {
        "id": "zy3Zs-E4E6r0",
        "colab": {
          "base_uri": "https://localhost:8080/",
          "height": 265
        },
        "outputId": "cae9c62a-e6c5-49e5-8b72-d818026a8c09"
      },
      "source": [
        "plt.plot(history_1.history['loss'], label='train_loss');\n",
        "plt.plot(history_1.history['val_loss'], label='val_loss');\n",
        "plt.legend();"
      ],
      "execution_count": null,
      "outputs": [
        {
          "output_type": "display_data",
          "data": {
            "image/png": "[encoded data removed]",
            "text/plain": [
              "<Figure size 432x288 with 1 Axes>"
            ]
          },
          "metadata": {
            "tags": [],
            "needs_background": "light"
          }
        }
      ]
    },
    {
      "cell_type": "code",
      "metadata": {
        "id": "dun1NjxjFoJq",
        "colab": {
          "base_uri": "https://localhost:8080/"
        },
        "outputId": "9d1177a5-1e61-4b02-bfcc-4ead91d77b31"
      },
      "source": [
        "mse_test1 = mean_squared_error(y_test, model_1.predict(x_test))\n",
        "print(mse_test1)"
      ],
      "execution_count": null,
      "outputs": [
        {
          "output_type": "stream",
          "text": [
            "27.558346069091584\n"
          ],
          "name": "stdout"
        }
      ]
    },
    {
      "cell_type": "code",
      "metadata": {
        "colab": {
          "base_uri": "https://localhost:8080/"
        },
        "id": "DkQ_PiAeLXJv",
        "outputId": "73c4de44-d3ce-4c39-f26a-195b15878cee"
      },
      "source": [
        "mse_train1 = mean_squared_error(y_train, model_1.predict(x_train))\n",
        "print(mse_train1)"
      ],
      "execution_count": null,
      "outputs": [
        {
          "output_type": "stream",
          "text": [
            "17.277455837762915\n"
          ],
          "name": "stdout"
        }
      ]
    },
    {
      "cell_type": "code",
      "metadata": {
        "id": "snMJFxNlGA6m"
      },
      "source": [
        "model_1.predict(x_test)"
      ],
      "execution_count": null,
      "outputs": []
    },
    {
      "cell_type": "markdown",
      "metadata": {
        "id": "ZQGuwFLNXZjS"
      },
      "source": [
        "**Model 2**"
      ]
    },
    {
      "cell_type": "code",
      "metadata": {
        "id": "9wadtdpgm__3"
      },
      "source": [
        "model_2 = Sequential()\n",
        "model_2.add(\n",
        "    Dense(40, input_dim=13, kernel_initializer='normal', activation='relu')\n",
        ")\n",
        "model_2.add(\n",
        "    Dense(40, kernel_initializer='normal', activation='relu')\n",
        ")\n",
        "model_2.add(\n",
        "    Dense(40, kernel_initializer='normal', activation='relu')\n",
        ")\n",
        "model_2.add(\n",
        "    Dense(1, kernel_initializer='normal')\n",
        ")"
      ],
      "execution_count": null,
      "outputs": []
    },
    {
      "cell_type": "code",
      "metadata": {
        "id": "mFsDUaw7n8De"
      },
      "source": [
        "model_2.compile(loss='mean_squared_error', optimizer=optimizer_1)"
      ],
      "execution_count": null,
      "outputs": []
    },
    {
      "cell_type": "code",
      "metadata": {
        "id": "qKKsQFF8oNvy"
      },
      "source": [
        "history_2 = model_2.fit(x=x_train, y=y_train, validation_split=0.1, batch_size=64, epochs=500, verbose=1)"
      ],
      "execution_count": null,
      "outputs": []
    },
    {
      "cell_type": "code",
      "metadata": {
        "colab": {
          "base_uri": "https://localhost:8080/",
          "height": 265
        },
        "id": "egjHcNCXphdj",
        "outputId": "33bb15cb-b23c-431b-ac03-7c9040f02280"
      },
      "source": [
        "plt.plot(history_2.history['loss'], label='train_loss');\n",
        "plt.plot(history_2.history['val_loss'], label='val_loss');\n",
        "plt.legend();"
      ],
      "execution_count": null,
      "outputs": [
        {
          "output_type": "display_data",
          "data": {
            "image/png": "[encoded data removed]",
            "text/plain": [
              "<Figure size 432x288 with 1 Axes>"
            ]
          },
          "metadata": {
            "tags": [],
            "needs_background": "light"
          }
        }
      ]
    },
    {
      "cell_type": "code",
      "metadata": {
        "colab": {
          "base_uri": "https://localhost:8080/"
        },
        "id": "McavW-20p7Vw",
        "outputId": "f36fc53a-7e5f-412e-d0e5-06f08741c468"
      },
      "source": [
        "mse_test2 = mean_squared_error(y_test, model_2.predict(x_test))\n",
        "print(mse_test2)"
      ],
      "execution_count": null,
      "outputs": [
        {
          "output_type": "stream",
          "text": [
            "28.21221066369202\n"
          ],
          "name": "stdout"
        }
      ]
    },
    {
      "cell_type": "code",
      "metadata": {
        "colab": {
          "base_uri": "https://localhost:8080/"
        },
        "id": "umqS04dxMEWy",
        "outputId": "a4149241-070e-4151-bc5a-e6de126b5418"
      },
      "source": [
        "mse_train2 = mean_squared_error(y_train, model_2.predict(x_train))\n",
        "print(mse_train2)"
      ],
      "execution_count": null,
      "outputs": [
        {
          "output_type": "stream",
          "text": [
            "9.868415696658243\n"
          ],
          "name": "stdout"
        }
      ]
    },
    {
      "cell_type": "code",
      "metadata": {
        "id": "B0iJ3Q_Vpyom"
      },
      "source": [
        "model_2.predict(x_test)"
      ],
      "execution_count": null,
      "outputs": []
    },
    {
      "cell_type": "markdown",
      "metadata": {
        "id": "le_NCjKYXUQr"
      },
      "source": [
        "**Model 3**"
      ]
    },
    {
      "cell_type": "code",
      "metadata": {
        "id": "E2ldZosF021D"
      },
      "source": [
        "model_3 = Sequential()\n",
        "model_3.add(\n",
        "    Dense(40, input_dim=13, kernel_initializer='normal', activation='gelu')\n",
        ")\n",
        "model_3.add(\n",
        "    Dense(40, kernel_initializer='normal', activation='gelu')\n",
        ")\n",
        "model_3.add(\n",
        "    Dense(40, kernel_initializer='normal', activation='gelu')\n",
        ")\n",
        "model_3.add(\n",
        "    Dense(1, kernel_initializer='normal')\n",
        ")"
      ],
      "execution_count": null,
      "outputs": []
    },
    {
      "cell_type": "code",
      "metadata": {
        "id": "qKvqvyRJ1gMd"
      },
      "source": [
        "model_3.compile(loss='mean_squared_error', optimizer=optimizer_1)"
      ],
      "execution_count": null,
      "outputs": []
    },
    {
      "cell_type": "code",
      "metadata": {
        "id": "CZAygfgU1k2r"
      },
      "source": [
        "history_3 = model_3.fit(x=x_train, y=y_train, validation_split=0.1, batch_size=64, epochs=500, verbose=1)"
      ],
      "execution_count": null,
      "outputs": []
    },
    {
      "cell_type": "code",
      "metadata": {
        "colab": {
          "base_uri": "https://localhost:8080/",
          "height": 268
        },
        "id": "qwe8ETmW12ZO",
        "outputId": "0583f74c-7250-4ab4-f3ab-a36e133f0a98"
      },
      "source": [
        "plt.plot(history_3.history['loss'], label='train_loss');\n",
        "plt.plot(history_3.history['val_loss'], label='val_loss');\n",
        "plt.legend();"
      ],
      "execution_count": null,
      "outputs": [
        {
          "output_type": "display_data",
          "data": {
            "image/png": "[encoded data removed]",
            "text/plain": [
              "<Figure size 432x288 with 1 Axes>"
            ]
          },
          "metadata": {
            "tags": [],
            "needs_background": "light"
          }
        }
      ]
    },
    {
      "cell_type": "code",
      "metadata": {
        "colab": {
          "base_uri": "https://localhost:8080/"
        },
        "id": "teaO0R892a42",
        "outputId": "1762de04-4d94-4981-edc1-17e61c4c61af"
      },
      "source": [
        "mse_test3 = mean_squared_error(y_test, model_3.predict(x_test))\n",
        "print(mse_test3)"
      ],
      "execution_count": null,
      "outputs": [
        {
          "output_type": "stream",
          "text": [
            "25.601874840448332\n"
          ],
          "name": "stdout"
        }
      ]
    },
    {
      "cell_type": "code",
      "metadata": {
        "colab": {
          "base_uri": "https://localhost:8080/"
        },
        "id": "B6nuIvbXMVFB",
        "outputId": "c4b10084-00e0-462b-9cb4-273dc9545956"
      },
      "source": [
        "mse_train3 = mean_squared_error(y_train, model_3.predict(x_train))\n",
        "print(mse_train3)"
      ],
      "execution_count": null,
      "outputs": [
        {
          "output_type": "stream",
          "text": [
            "6.331323827891665\n"
          ],
          "name": "stdout"
        }
      ]
    },
    {
      "cell_type": "markdown",
      "metadata": {
        "id": "jRVkaErbXNEP"
      },
      "source": [
        "**Model 4**"
      ]
    },
    {
      "cell_type": "code",
      "metadata": {
        "id": "K4UbQgzI6l44"
      },
      "source": [
        "model_4 = Sequential()\n",
        "model_4.add(\n",
        "    Dense(40, input_dim=13, kernel_initializer='normal', activation='softplus')\n",
        ")\n",
        "model_4.add(\n",
        "    Dense(40, kernel_initializer='normal', activation='softplus')\n",
        ")\n",
        "model_4.add(\n",
        "    Dense(40, kernel_initializer='normal', activation='softplus')\n",
        ")\n",
        "model_4.add(\n",
        "    Dense(1, kernel_initializer='normal')\n",
        ")"
      ],
      "execution_count": null,
      "outputs": []
    },
    {
      "cell_type": "code",
      "metadata": {
        "id": "srS397wr7Te9"
      },
      "source": [
        "model_4.compile(loss='mean_squared_error', optimizer=optimizer_1)"
      ],
      "execution_count": null,
      "outputs": []
    },
    {
      "cell_type": "code",
      "metadata": {
        "id": "jNnPLvq07gA8"
      },
      "source": [
        "history_4 = model_4.fit(x=x_train, y=y_train, validation_split=0.1, batch_size=64, epochs=500, verbose=1)"
      ],
      "execution_count": null,
      "outputs": []
    },
    {
      "cell_type": "code",
      "metadata": {
        "colab": {
          "base_uri": "https://localhost:8080/",
          "height": 265
        },
        "id": "zbJ4VXHn74Iq",
        "outputId": "4bdd1dd6-df2f-4405-a01e-d8f666ae9d53"
      },
      "source": [
        "plt.plot(history_4.history['loss'], label='train_loss');\n",
        "plt.plot(history_4.history['val_loss'], label='val_loss');\n",
        "plt.legend();"
      ],
      "execution_count": null,
      "outputs": [
        {
          "output_type": "display_data",
          "data": {
            "image/png": "[encoded data removed]",
            "text/plain": [
              "<Figure size 432x288 with 1 Axes>"
            ]
          },
          "metadata": {
            "tags": [],
            "needs_background": "light"
          }
        }
      ]
    },
    {
      "cell_type": "code",
      "metadata": {
        "colab": {
          "base_uri": "https://localhost:8080/"
        },
        "id": "_B41SO1S8edP",
        "outputId": "2387dafa-0897-4a4d-ec72-d538ddbb924a"
      },
      "source": [
        "mse_test4 = mean_squared_error(y_test, model_4.predict(x_test))\n",
        "print(mse_test4)"
      ],
      "execution_count": null,
      "outputs": [
        {
          "output_type": "stream",
          "text": [
            "24.54319132319655\n"
          ],
          "name": "stdout"
        }
      ]
    },
    {
      "cell_type": "code",
      "metadata": {
        "colab": {
          "base_uri": "https://localhost:8080/"
        },
        "id": "xKz1aFeLMkKH",
        "outputId": "13667a29-371c-4ca3-c752-afaecca1b817"
      },
      "source": [
        "mse_train4 = mean_squared_error(y_train, model_4.predict(x_train))\n",
        "print(mse_train4)"
      ],
      "execution_count": null,
      "outputs": [
        {
          "output_type": "stream",
          "text": [
            "6.778963296298967\n"
          ],
          "name": "stdout"
        }
      ]
    },
    {
      "cell_type": "markdown",
      "metadata": {
        "id": "bx2fhwNRXFv7"
      },
      "source": [
        "**Model 5**"
      ]
    },
    {
      "cell_type": "code",
      "metadata": {
        "id": "_6Q3jdSvAfx2"
      },
      "source": [
        "model_5 = Sequential()\n",
        "model_5.add(\n",
        "    Dense(40, input_dim=13, kernel_initializer='normal', activation='tanh')\n",
        ")\n",
        "model_5.add(\n",
        "    Dense(40, kernel_initializer='normal', activation='tanh')\n",
        ")\n",
        "model_5.add(\n",
        "    Dense(40, kernel_initializer='normal', activation='tanh')\n",
        ")\n",
        "model_5.add(\n",
        "    Dense(1, kernel_initializer='normal')\n",
        ")"
      ],
      "execution_count": null,
      "outputs": []
    },
    {
      "cell_type": "code",
      "metadata": {
        "id": "Q1bEZcbxAr9h"
      },
      "source": [
        "model_5.compile(loss='mean_squared_error', optimizer=optimizer_1)"
      ],
      "execution_count": null,
      "outputs": []
    },
    {
      "cell_type": "code",
      "metadata": {
        "id": "uRifas-IAxQS"
      },
      "source": [
        "history_5 = model_5.fit(x=x_train, y=y_train, validation_split=0.1, batch_size=64, epochs=500, verbose=1)"
      ],
      "execution_count": null,
      "outputs": []
    },
    {
      "cell_type": "code",
      "metadata": {
        "colab": {
          "base_uri": "https://localhost:8080/",
          "height": 265
        },
        "id": "pN3Cg2piA_nt",
        "outputId": "5275b385-57c5-4045-9b26-b488a8054e12"
      },
      "source": [
        "plt.plot(history_5.history['loss'], label='train_loss');\n",
        "plt.plot(history_5.history['val_loss'], label='val_loss');\n",
        "plt.legend();"
      ],
      "execution_count": null,
      "outputs": [
        {
          "output_type": "display_data",
          "data": {
            "image/png": "[encoded data removed]",
            "text/plain": [
              "<Figure size 432x288 with 1 Axes>"
            ]
          },
          "metadata": {
            "tags": [],
            "needs_background": "light"
          }
        }
      ]
    },
    {
      "cell_type": "code",
      "metadata": {
        "colab": {
          "base_uri": "https://localhost:8080/"
        },
        "id": "_QJNA1myBE65",
        "outputId": "c4fb711d-28f3-4c37-88fc-3d9021be9e5e"
      },
      "source": [
        "mse_test5 = mean_squared_error(y_test, model_5.predict(x_test))\n",
        "print(mse_test5)"
      ],
      "execution_count": null,
      "outputs": [
        {
          "output_type": "stream",
          "text": [
            "83.61223993996187\n"
          ],
          "name": "stdout"
        }
      ]
    },
    {
      "cell_type": "code",
      "metadata": {
        "colab": {
          "base_uri": "https://localhost:8080/"
        },
        "id": "3QCAqWXuM3ny",
        "outputId": "2d0b5d27-cd4d-4119-cd96-79eae45b1396"
      },
      "source": [
        "mse_train5 = mean_squared_error(y_train, model_5.predict(x_train))\n",
        "print(mse_train5)"
      ],
      "execution_count": null,
      "outputs": [
        {
          "output_type": "stream",
          "text": [
            "84.62677554746594\n"
          ],
          "name": "stdout"
        }
      ]
    },
    {
      "cell_type": "markdown",
      "metadata": {
        "id": "Fc2gLcA0W7RJ"
      },
      "source": [
        "**Model 6**"
      ]
    },
    {
      "cell_type": "code",
      "metadata": {
        "id": "U6kKReWBB7XN"
      },
      "source": [
        "model_6 = Sequential()\n",
        "model_6.add(\n",
        "    Dense(40, input_dim=13, kernel_initializer='normal', activation='linear')\n",
        ")\n",
        "model_6.add(\n",
        "    Dense(40, kernel_initializer='normal', activation='linear')\n",
        ")\n",
        "model_6.add(\n",
        "    Dense(40, kernel_initializer='normal', activation='linear')\n",
        ")\n",
        "model_6.add(\n",
        "    Dense(1, kernel_initializer='normal')\n",
        ")"
      ],
      "execution_count": null,
      "outputs": []
    },
    {
      "cell_type": "code",
      "metadata": {
        "id": "YsL1lJG-DLML"
      },
      "source": [
        "model_6.compile(loss='mean_squared_error', optimizer=optimizer_1)"
      ],
      "execution_count": null,
      "outputs": []
    },
    {
      "cell_type": "code",
      "metadata": {
        "id": "iJi59IN-DNCG"
      },
      "source": [
        "history_6 = model_6.fit(x=x_train, y=y_train, validation_split=0.1, batch_size=64, epochs=500, verbose=1)"
      ],
      "execution_count": null,
      "outputs": []
    },
    {
      "cell_type": "code",
      "metadata": {
        "colab": {
          "base_uri": "https://localhost:8080/",
          "height": 265
        },
        "id": "RakZIZbtDc8t",
        "outputId": "967feeb4-17d3-4f6a-e56b-152505b6ae1f"
      },
      "source": [
        "plt.plot(history_6.history['loss'], label='train_loss');\n",
        "plt.plot(history_6.history['val_loss'], label='val_loss');\n",
        "plt.legend();"
      ],
      "execution_count": null,
      "outputs": [
        {
          "output_type": "display_data",
          "data": {
            "image/png": "[encoded data removed]",
            "text/plain": [
              "<Figure size 432x288 with 1 Axes>"
            ]
          },
          "metadata": {
            "tags": [],
            "needs_background": "light"
          }
        }
      ]
    },
    {
      "cell_type": "code",
      "metadata": {
        "colab": {
          "base_uri": "https://localhost:8080/"
        },
        "id": "GuC9HWyODiWs",
        "outputId": "6bc0b30d-abfe-41cd-dde6-25988674656a"
      },
      "source": [
        "mse_test6 = mean_squared_error(y_test, model_6.predict(x_test))\n",
        "print(mse_test6)"
      ],
      "execution_count": null,
      "outputs": [
        {
          "output_type": "stream",
          "text": [
            "25.9042408749791\n"
          ],
          "name": "stdout"
        }
      ]
    },
    {
      "cell_type": "code",
      "metadata": {
        "colab": {
          "base_uri": "https://localhost:8080/"
        },
        "id": "mQ6OsOiWNHHA",
        "outputId": "abddb3d4-420c-4b3d-8110-784c7c9589f1"
      },
      "source": [
        "mse_train6 = mean_squared_error(y_train, model_6.predict(x_train))\n",
        "print(mse_train6)"
      ],
      "execution_count": null,
      "outputs": [
        {
          "output_type": "stream",
          "text": [
            "25.56044419907194\n"
          ],
          "name": "stdout"
        }
      ]
    },
    {
      "cell_type": "markdown",
      "metadata": {
        "id": "3rawfIucXmBW"
      },
      "source": [
        "**Linear model**"
      ]
    },
    {
      "cell_type": "code",
      "metadata": {
        "id": "SOdqH6PrWtiA"
      },
      "source": [
        "from sklearn.linear_model import LinearRegression\n",
        "from sklearn.linear_model import Ridge\n",
        "from sklearn.linear_model import Lasso\n"
      ],
      "execution_count": null,
      "outputs": []
    },
    {
      "cell_type": "code",
      "metadata": {
        "id": "xPYdHn7rhjeA"
      },
      "source": [
        "rr = Ridge(alpha=0.01)"
      ],
      "execution_count": null,
      "outputs": []
    },
    {
      "cell_type": "code",
      "metadata": {
        "colab": {
          "base_uri": "https://localhost:8080/"
        },
        "id": "FXvjAQG4h4-T",
        "outputId": "6b1e5228-9e50-4f5c-b1c1-9ea4f77b2226"
      },
      "source": [
        "rr.fit(x_train, y_train)"
      ],
      "execution_count": null,
      "outputs": [
        {
          "output_type": "execute_result",
          "data": {
            "text/plain": [
              "Ridge(alpha=0.01, copy_X=True, fit_intercept=True, max_iter=None,\n",
              "      normalize=False, random_state=None, solver='auto', tol=0.001)"
            ]
          },
          "metadata": {
            "tags": []
          },
          "execution_count": 45
        }
      ]
    },
    {
      "cell_type": "code",
      "metadata": {
        "colab": {
          "base_uri": "https://localhost:8080/"
        },
        "id": "IWVjb0lqiYZU",
        "outputId": "398d8ffd-ec7e-47a1-afaa-d9e38d3f43ad"
      },
      "source": [
        "mse_train_l1 = mean_squared_error(y_train, rr.predict(x_train), squared=False)\n",
        "print(mse_train_l1)"
      ],
      "execution_count": null,
      "outputs": [
        {
          "output_type": "stream",
          "text": [
            "4.690936565386934\n"
          ],
          "name": "stdout"
        }
      ]
    },
    {
      "cell_type": "code",
      "metadata": {
        "colab": {
          "base_uri": "https://localhost:8080/"
        },
        "id": "qI57s2xEiey7",
        "outputId": "4ef31a40-db94-4198-b85e-e05ca1321fb8"
      },
      "source": [
        "mse_test_l1 = mean_squared_error(y_test, rr.predict(x_test), squared=False)\n",
        "print(mse_test_l1)"
      ],
      "execution_count": null,
      "outputs": [
        {
          "output_type": "stream",
          "text": [
            "4.814513266886862\n"
          ],
          "name": "stdout"
        }
      ]
    },
    {
      "cell_type": "code",
      "metadata": {
        "id": "Y9dcLGmAi12v"
      },
      "source": [
        "lasso = Lasso()"
      ],
      "execution_count": null,
      "outputs": []
    },
    {
      "cell_type": "code",
      "metadata": {
        "colab": {
          "base_uri": "https://localhost:8080/"
        },
        "id": "UY1tNFGHjAUn",
        "outputId": "3c5096a7-f562-4a3c-8294-5b6bbad987bd"
      },
      "source": [
        "lasso.fit(x_train,y_train)"
      ],
      "execution_count": null,
      "outputs": [
        {
          "output_type": "execute_result",
          "data": {
            "text/plain": [
              "Lasso(alpha=1.0, copy_X=True, fit_intercept=True, max_iter=1000,\n",
              "      normalize=False, positive=False, precompute=False, random_state=None,\n",
              "      selection='cyclic', tol=0.0001, warm_start=False)"
            ]
          },
          "metadata": {
            "tags": []
          },
          "execution_count": 55
        }
      ]
    },
    {
      "cell_type": "code",
      "metadata": {
        "colab": {
          "base_uri": "https://localhost:8080/"
        },
        "id": "Dohur9T1jQPz",
        "outputId": "75174a4f-e587-4e8e-a2b1-3958e6587eb4"
      },
      "source": [
        "mse_train_l2 = mean_squared_error(y_train, lasso.predict(x_train), squared=False)\n",
        "print(mse_train_l2)"
      ],
      "execution_count": null,
      "outputs": [
        {
          "output_type": "stream",
          "text": [
            "5.270851484992613\n"
          ],
          "name": "stdout"
        }
      ]
    },
    {
      "cell_type": "code",
      "metadata": {
        "colab": {
          "base_uri": "https://localhost:8080/"
        },
        "id": "sEcTVfQQkNVP",
        "outputId": "78f05c10-6658-4378-d8e8-1ab3f20ba43b"
      },
      "source": [
        "mse_test_l2 = mean_squared_error(y_test, lasso.predict(x_test), squared=False)\n",
        "print(mse_test_l2)"
      ],
      "execution_count": null,
      "outputs": [
        {
          "output_type": "stream",
          "text": [
            "5.081500879655532\n"
          ],
          "name": "stdout"
        }
      ]
    },
    {
      "cell_type": "markdown",
      "metadata": {
        "id": "b7K8V2kWtW6n"
      },
      "source": [
        "**Decision Tree**"
      ]
    },
    {
      "cell_type": "code",
      "metadata": {
        "id": "ZWZZn44dtaVX"
      },
      "source": [
        "from sklearn.tree import DecisionTreeRegressor\n",
        "from sklearn.model_selection import ShuffleSplit\n",
        "from sklearn.metrics import make_scorer\n",
        "from sklearn.model_selection import GridSearchCV\n",
        "from sklearn.metrics import r2_score\n",
        "\n",
        "def performance_metric(y_true, y_predict):\n",
        "    \"\"\" Calculates and returns the performance score between \n",
        "        true (y_true) and predicted (y_predict) values based on the metric chosen. \"\"\"\n",
        "    \n",
        "    score = r2_score(y_true, y_predict)\n",
        "    \n",
        "    # Return the score\n",
        "    return score"
      ],
      "execution_count": null,
      "outputs": []
    },
    {
      "cell_type": "code",
      "metadata": {
        "id": "XFLsOcsJ8o3o"
      },
      "source": [
        "def fit_model(X, y):\n",
        "    \"\"\" Performs grid search over the 'max_depth' parameter for a \n",
        "        decision tree regressor trained on the input data [x, y]. \"\"\"\n",
        "    \n",
        "    # Create cross-validation sets from the training data\n",
        "    cv_sets = ShuffleSplit(n_splits = 10, test_size = 0.20, random_state = 0)\n",
        "\n",
        "    # Create a decision tree regressor object\n",
        "    regressor = DecisionTreeRegressor()\n",
        "\n",
        "    # Create a dictionary for the parameter 'max_depth' with a range from 1 to 10\n",
        "    params = {'max_depth':[1,2,3,4,5,6,7,8,9,10]}\n",
        "\n",
        "    # Transform 'performance_metric' into a scoring function using 'make_scorer' \n",
        "    scoring_fnc = make_scorer(performance_metric)\n",
        "\n",
        "    # Create the grid search cv object --> GridSearchCV()\n",
        "    grid = GridSearchCV(estimator=regressor, param_grid=params, scoring=scoring_fnc, cv=cv_sets)\n",
        "\n",
        "    # Fit the grid search object to the data to compute the optimal model\n",
        "    grid = grid.fit(X, y)\n",
        "\n",
        "    # Return the optimal model after fitting the data\n",
        "    return grid.best_estimator_"
      ],
      "execution_count": null,
      "outputs": []
    },
    {
      "cell_type": "code",
      "metadata": {
        "id": "foe-DXUx80P3"
      },
      "source": [
        "# Fit the training data to the model using grid search\n",
        "reg = fit_model(x_train, y_train)"
      ],
      "execution_count": null,
      "outputs": []
    },
    {
      "cell_type": "code",
      "metadata": {
        "colab": {
          "base_uri": "https://localhost:8080/"
        },
        "id": "xF5bQbVt9rCy",
        "outputId": "835e7027-a116-4ef1-c8ab-15f56af83044"
      },
      "source": [
        "mse_train_dt = mean_squared_error(y_train, reg.predict(x_train), squared=False)\n",
        "print(mse_train_dt)"
      ],
      "execution_count": null,
      "outputs": [
        {
          "output_type": "stream",
          "text": [
            "1.368080033775075\n"
          ],
          "name": "stdout"
        }
      ]
    },
    {
      "cell_type": "code",
      "metadata": {
        "colab": {
          "base_uri": "https://localhost:8080/"
        },
        "id": "QKy9E2uE92yI",
        "outputId": "a60c1c0f-ea13-4583-addf-fb8aacdfb863"
      },
      "source": [
        "mse_test_dt = mean_squared_error(y_test, reg.predict(x_test), squared=False)\n",
        "print(mse_test_dt)"
      ],
      "execution_count": null,
      "outputs": [
        {
          "output_type": "stream",
          "text": [
            "4.776292737670231\n"
          ],
          "name": "stdout"
        }
      ]
    },
    {
      "cell_type": "markdown",
      "metadata": {
        "id": "t5lxx163_ZIB"
      },
      "source": [
        "**Random Forest**"
      ]
    },
    {
      "cell_type": "code",
      "metadata": {
        "id": "X-Zx5Y1y_gGM"
      },
      "source": [
        "import xgboost as xgb\n",
        "from sklearn.ensemble import RandomForestRegressor"
      ],
      "execution_count": null,
      "outputs": []
    },
    {
      "cell_type": "code",
      "metadata": {
        "id": "5vu1zHooUA3Z"
      },
      "source": [
        "rf = RandomForestRegressor(n_estimators = 400, min_samples_leaf=0.12, random_state=123)"
      ],
      "execution_count": null,
      "outputs": []
    },
    {
      "cell_type": "code",
      "metadata": {
        "colab": {
          "base_uri": "https://localhost:8080/"
        },
        "id": "6A5PjozBU9cr",
        "outputId": "7b352b9d-eff7-4f3d-fc1c-9eb19fc7d906"
      },
      "source": [
        "rf.fit(x_train, y_train)"
      ],
      "execution_count": null,
      "outputs": [
        {
          "output_type": "execute_result",
          "data": {
            "text/plain": [
              "RandomForestRegressor(bootstrap=True, ccp_alpha=0.0, criterion='mse',\n",
              "                      max_depth=None, max_features='auto', max_leaf_nodes=None,\n",
              "                      max_samples=None, min_impurity_decrease=0.0,\n",
              "                      min_impurity_split=None, min_samples_leaf=0.12,\n",
              "                      min_samples_split=2, min_weight_fraction_leaf=0.0,\n",
              "                      n_estimators=400, n_jobs=None, oob_score=False,\n",
              "                      random_state=123, verbose=0, warm_start=False)"
            ]
          },
          "metadata": {
            "tags": []
          },
          "execution_count": 66
        }
      ]
    },
    {
      "cell_type": "code",
      "metadata": {
        "colab": {
          "base_uri": "https://localhost:8080/"
        },
        "id": "5nSnjMPPVB0k",
        "outputId": "b00242c2-2caa-494b-cb5f-adbfa0c317c2"
      },
      "source": [
        "mse_train_rf = mean_squared_error(y_train, rf.predict(x_train), squared=False)\n",
        "print(mse_train_rf)"
      ],
      "execution_count": null,
      "outputs": [
        {
          "output_type": "stream",
          "text": [
            "5.18707187128196\n"
          ],
          "name": "stdout"
        }
      ]
    },
    {
      "cell_type": "code",
      "metadata": {
        "colab": {
          "base_uri": "https://localhost:8080/"
        },
        "id": "yw62UUccVLTj",
        "outputId": "5c2bf99b-4716-4d4b-cd7f-771ce12f01ba"
      },
      "source": [
        "mse_test_rf = mean_squared_error(y_test, rf.predict(x_test), squared=False)\n",
        "print(mse_test_rf)"
      ],
      "execution_count": null,
      "outputs": [
        {
          "output_type": "stream",
          "text": [
            "5.277936372201736\n"
          ],
          "name": "stdout"
        }
      ]
    },
    {
      "cell_type": "markdown",
      "metadata": {
        "id": "8taxnM79XOf-"
      },
      "source": [
        "**Conclusion**"
      ]
    },
    {
      "cell_type": "code",
      "metadata": {
        "id": "xqF9aLGqXSYz",
        "colab": {
          "base_uri": "https://localhost:8080/"
        },
        "outputId": "f8f5743a-615e-4209-eba8-6762e3d14ffc"
      },
      "source": [
        "import pandas as pd\n",
        "from pandas import DataFrame\n",
        "mse_list = [['Sigmoid', mse_train1, mse_test1],\n",
        "            ['Relu', mse_train2, mse_test2],\n",
        "            ['Gelu', mse_train3, mse_test3],\n",
        "            ['Softplus', mse_train4, mse_test4],\n",
        "            ['Tanh', mse_train5, mse_test5],\n",
        "            ['L1', mse_train_l1, mse_test_l1],\n",
        "            ['L2', mse_train_l2, mse_test_l2],\n",
        "            ['Decision Tree', mse_train_dt, mse_test_dt],\n",
        "            ['Random Forest', mse_train_rf, mse_test_rf]]\n",
        "df = DataFrame(data=mse_list, columns = ['Model', 'MSE_train', 'MSE_test'])\n",
        "print(df)"
      ],
      "execution_count": null,
      "outputs": [
        {
          "output_type": "stream",
          "text": [
            "           Model  MSE_train   MSE_test\n",
            "0        Sigmoid  17.277456  27.558346\n",
            "1           Relu   9.868416  28.212211\n",
            "2           Gelu   6.331324  25.601875\n",
            "3       Softplus   6.778963  24.543191\n",
            "4           Tanh  84.626776  83.612240\n",
            "5             L1   4.690937   4.814513\n",
            "6             L2   5.270851   5.081501\n",
            "7  Decision Tree   1.368080   4.776293\n",
            "8  Random Forest   5.187072   5.277936\n"
          ],
          "name": "stdout"
        }
      ]
    }
  ]
}